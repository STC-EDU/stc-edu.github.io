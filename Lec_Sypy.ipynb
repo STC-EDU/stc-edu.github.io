{
  "nbformat": 4,
  "nbformat_minor": 0,
  "metadata": {
    "colab": {
      "name": "Lec_Sypy.ipynb",
      "version": "0.3.2",
      "provenance": [],
      "include_colab_link": true
    },
    "kernelspec": {
      "name": "python3",
      "display_name": "Python 3"
    }
  },
  "cells": [
    {
      "cell_type": "markdown",
      "metadata": {
        "id": "view-in-github",
        "colab_type": "text"
      },
      "source": [
        "<a href=\"https://colab.research.google.com/github/STC-EDU/stc-edu.github.io/blob/master/Lec_Sypy.ipynb\" target=\"_parent\"><img src=\"https://colab.research.google.com/assets/colab-badge.svg\" alt=\"Open In Colab\"/></a>"
      ]
    },
    {
      "cell_type": "markdown",
      "metadata": {
        "id": "7eEh7ADOnukZ",
        "colab_type": "text"
      },
      "source": [
        "##0　準備\n",
        "### Sympyライブラリの読み"
      ]
    },
    {
      "cell_type": "code",
      "metadata": {
        "id": "E5Dqzf57Pu47",
        "colab_type": "code",
        "colab": {}
      },
      "source": [
        "from sympy import *"
      ],
      "execution_count": 0,
      "outputs": []
    },
    {
      "cell_type": "markdown",
      "metadata": {
        "id": "qnbzdsApAFWT",
        "colab_type": "text"
      },
      "source": [
        "##1 加減乗除\n",
        "1. $ 3+2 $\n",
        "2. $ 3-2 $\n",
        "3. $ \\frac{3}{2} $ \n",
        "4. $ 3/2 $"
      ]
    },
    {
      "cell_type": "code",
      "metadata": {
        "id": "NxSHE9jUAOtZ",
        "colab_type": "code",
        "outputId": "baa1014b-9921-4a9e-d9f5-301225edc399",
        "colab": {
          "base_uri": "https://localhost:8080/",
          "height": 35
        }
      },
      "source": [
        "3+2,3-2,3*2,Rational(3,2), 3/2"
      ],
      "execution_count": 0,
      "outputs": [
        {
          "output_type": "execute_result",
          "data": {
            "text/plain": [
              "(5, 1, 6, 3/2, 1.5)"
            ]
          },
          "metadata": {
            "tags": []
          },
          "execution_count": 8
        }
      ]
    },
    {
      "cell_type": "markdown",
      "metadata": {
        "id": "AyGjSoP6A7_o",
        "colab_type": "text"
      },
      "source": [
        "##2 冪乗・階乗・二重階乗・ルート\n",
        "1. $ 2^3 $\n",
        "2. $ 5! $\n",
        "3. $ 5!! $\n",
        "4. $ sqrt(5) $"
      ]
    },
    {
      "cell_type": "code",
      "metadata": {
        "id": "YsIsud0NBEE0",
        "colab_type": "code",
        "outputId": "a92904e5-6e9e-4ea0-8275-b8f7f55e43b2",
        "colab": {
          "base_uri": "https://localhost:8080/",
          "height": 35
        }
      },
      "source": [
        "2**3,factorial(5), factorial2(5),sqrt(5)"
      ],
      "execution_count": 0,
      "outputs": [
        {
          "output_type": "execute_result",
          "data": {
            "text/plain": [
              "(8, 120, 15, sqrt(5))"
            ]
          },
          "metadata": {
            "tags": []
          },
          "execution_count": 14
        }
      ]
    },
    {
      "cell_type": "markdown",
      "metadata": {
        "id": "T4utlSUgiOvX",
        "colab_type": "text"
      },
      "source": [
        "##3 複素数\n",
        "###3.1 虚数単位、複素共益、実部・虚部、絶対値、偏角\n",
        " 1. $ 2i $\n",
        " 2. $ 2+3i, 2-3i $\n",
        " 3. $ 2+ 3i$の実部:$ 2 $と虚部:$3 $\n",
        " 4. $ |2+3i | =  \\sqrt{2^2+3^2} = \\sqrt{13} $\n",
        " 5. $ \\theta = arg(2+3i) = \\tan^{-1} \\frac{3}{2} $"
      ]
    },
    {
      "cell_type": "code",
      "metadata": {
        "id": "sT1kvh3hiRVS",
        "colab_type": "code",
        "outputId": "81ff7bd1-d9e2-4d6b-9464-91287b4f88bf",
        "colab": {
          "base_uri": "https://localhost:8080/",
          "height": 35
        }
      },
      "source": [
        "I**2,conjugate(2+3*I),re(2+I*3),im(2+I*3),Abs(2+I*3),arg(2+I*3)"
      ],
      "execution_count": 0,
      "outputs": [
        {
          "output_type": "execute_result",
          "data": {
            "text/plain": [
              "(-1, 2 - 3*I, 2, 3, sqrt(13), atan(3/2))"
            ]
          },
          "metadata": {
            "tags": []
          },
          "execution_count": 17
        }
      ]
    },
    {
      "cell_type": "markdown",
      "metadata": {
        "id": "JVVQPEE3jTr6",
        "colab_type": "text"
      },
      "source": [
        "##4 代数的操作"
      ]
    },
    {
      "cell_type": "markdown",
      "metadata": {
        "id": "I27rTHV1sfkM",
        "colab_type": "text"
      },
      "source": [
        "### 4.1 素因数分解\n",
        "> $ 12 = 2 \\times 2 \\times 3 $"
      ]
    },
    {
      "cell_type": "code",
      "metadata": {
        "id": "GejSI8kNjXZB",
        "colab_type": "code",
        "outputId": "5da4defe-3b93-4cf5-c700-af7e5e47e392",
        "colab": {
          "base_uri": "https://localhost:8080/",
          "height": 35
        }
      },
      "source": [
        "factorint(12)"
      ],
      "execution_count": 0,
      "outputs": [
        {
          "output_type": "execute_result",
          "data": {
            "text/plain": [
              "{2: 2, 3: 1}"
            ]
          },
          "metadata": {
            "tags": []
          },
          "execution_count": 39
        }
      ]
    },
    {
      "cell_type": "markdown",
      "metadata": {
        "id": "YF4KgKAQs4pB",
        "colab_type": "text"
      },
      "source": [
        "### 4.2 因数分解\n",
        "> $ x^2 - 4x + 3 = (x-3)(x-1) $\n"
      ]
    },
    {
      "cell_type": "code",
      "metadata": {
        "id": "q8kswPrekwZo",
        "colab_type": "code",
        "outputId": "32677f1e-be02-4ba0-87f4-e48d3f83005d",
        "colab": {
          "base_uri": "https://localhost:8080/",
          "height": 35
        }
      },
      "source": [
        "var('x')\n",
        "factor(x**2-4*x+3)"
      ],
      "execution_count": 0,
      "outputs": [
        {
          "output_type": "execute_result",
          "data": {
            "text/plain": [
              "(x - 3)*(x - 1)"
            ]
          },
          "metadata": {
            "tags": []
          },
          "execution_count": 35
        }
      ]
    },
    {
      "cell_type": "markdown",
      "metadata": {
        "id": "6Hd8HKzjtQQD",
        "colab_type": "text"
      },
      "source": [
        "###4.3 部分分数分解\n",
        "> $ \\frac{1}{(x^2-4x+3)} = -\\frac{1}{2(x-1)} + \\frac{1}{2(x-3)}$"
      ]
    },
    {
      "cell_type": "code",
      "metadata": {
        "id": "xOTSbY1pk2kD",
        "colab_type": "code",
        "outputId": "7525e163-1d04-4957-8ac7-f6a804fbb519",
        "colab": {
          "base_uri": "https://localhost:8080/",
          "height": 35
        }
      },
      "source": [
        "apart(1/(x**2 - 4*x + 3))"
      ],
      "execution_count": 0,
      "outputs": [
        {
          "output_type": "execute_result",
          "data": {
            "text/plain": [
              "-1/(2*(x - 1)) + 1/(2*(x - 3))"
            ]
          },
          "metadata": {
            "tags": []
          },
          "execution_count": 36
        }
      ]
    },
    {
      "cell_type": "markdown",
      "metadata": {
        "id": "K8Det_E_x1xt",
        "colab_type": "text"
      },
      "source": [
        "###4.4 多項式展開\n",
        "> $ (x+y)^3 = x^3 + 3x^2y+3xy^2+y^3$"
      ]
    },
    {
      "cell_type": "code",
      "metadata": {
        "id": "1mxDxmtCQH0G",
        "colab_type": "code",
        "outputId": "71a41a65-e150-4b32-9012-f04e33e7a662",
        "colab": {
          "base_uri": "https://localhost:8080/",
          "height": 35
        }
      },
      "source": [
        "var('x y')\n",
        "expand((x+y)**3)"
      ],
      "execution_count": 0,
      "outputs": [
        {
          "output_type": "execute_result",
          "data": {
            "text/plain": [
              "x**3 + 3*x**2*y + 3*x*y**2 + y**3"
            ]
          },
          "metadata": {
            "tags": []
          },
          "execution_count": 40
        }
      ]
    },
    {
      "cell_type": "markdown",
      "metadata": {
        "id": "COs94g-ayH83",
        "colab_type": "text"
      },
      "source": [
        "###4.5 簡単化・通分\n",
        "> $ \\frac{2x+2}{(x+1)^2 (x-2)} = \\frac{2}{(x-2)(x+1)} $"
      ]
    },
    {
      "cell_type": "code",
      "metadata": {
        "id": "zaw6nrFrlHx1",
        "colab_type": "code",
        "outputId": "f7021a8f-cd00-4542-9afc-fc18b84931ea",
        "colab": {
          "base_uri": "https://localhost:8080/",
          "height": 35
        }
      },
      "source": [
        "simplify((2*x+2)/((x+1)**2 * (x-2)))"
      ],
      "execution_count": 0,
      "outputs": [
        {
          "output_type": "execute_result",
          "data": {
            "text/plain": [
              "2/((x - 2)*(x + 1))"
            ]
          },
          "metadata": {
            "tags": []
          },
          "execution_count": 41
        }
      ]
    },
    {
      "cell_type": "markdown",
      "metadata": {
        "id": "XYkIVzuIzWvL",
        "colab_type": "text"
      },
      "source": [
        "###4.6 簡単化・通分と展開\n",
        "> $ \\frac{2x-2}{(x-1)^2(x-2)}$"
      ]
    },
    {
      "cell_type": "code",
      "metadata": {
        "id": "hB6eD4FqlT2s",
        "colab_type": "code",
        "outputId": "ce7cb293-bc50-4db2-fdb5-8117134edeef",
        "colab": {
          "base_uri": "https://localhost:8080/",
          "height": 35
        }
      },
      "source": [
        "cancel((2*x-2)/((x-1)**2*(x-2)))"
      ],
      "execution_count": 0,
      "outputs": [
        {
          "output_type": "execute_result",
          "data": {
            "text/plain": [
              "2/(x**2 - 3*x + 2)"
            ]
          },
          "metadata": {
            "tags": []
          },
          "execution_count": 42
        }
      ]
    },
    {
      "cell_type": "markdown",
      "metadata": {
        "id": "ic0wMVjBofre",
        "colab_type": "text"
      },
      "source": [
        "### 4.7 式の真偽\n",
        "1.  $ 0 = \\sqrt{2}-2^{\\frac{1}{2}} $\n",
        "2.  $ 0 = \\sqrt{2} - 2^{\\frac{1}{3}}$"
      ]
    },
    {
      "cell_type": "code",
      "metadata": {
        "id": "fzAxHkDtzqtz",
        "colab_type": "code",
        "colab": {
          "base_uri": "https://localhost:8080/",
          "height": 34
        },
        "outputId": "304dc55b-45ab-454e-d0c8-dd2ea49efd90"
      },
      "source": [
        "0==sqrt(2) - 2**Rational(1,2), 0==sqrt(2) - 2**Rational(1,3)"
      ],
      "execution_count": 4,
      "outputs": [
        {
          "output_type": "execute_result",
          "data": {
            "text/plain": [
              "(True, False)"
            ]
          },
          "metadata": {
            "tags": []
          },
          "execution_count": 4
        }
      ]
    },
    {
      "cell_type": "markdown",
      "metadata": {
        "id": "rkNp2fFoqFYu",
        "colab_type": "text"
      },
      "source": [
        " 　※ 展開しないと正しい結果が得られない"
      ]
    },
    {
      "cell_type": "code",
      "metadata": {
        "id": "6zFR0JmcpUnj",
        "colab_type": "code",
        "colab": {
          "base_uri": "https://localhost:8080/",
          "height": 34
        },
        "outputId": "57b53fa6-080f-4ca1-8b63-9506031cce8e"
      },
      "source": [
        "var('x')\n",
        "x**2 - 2*x + 1 == (x-1)**2,  x**2 - 2*x + 1 == expand((x-1)**2)"
      ],
      "execution_count": 8,
      "outputs": [
        {
          "output_type": "execute_result",
          "data": {
            "text/plain": [
              "(False, True)"
            ]
          },
          "metadata": {
            "tags": []
          },
          "execution_count": 8
        }
      ]
    },
    {
      "cell_type": "markdown",
      "metadata": {
        "id": "07r6TjvfqZuM",
        "colab_type": "text"
      },
      "source": [
        "### 4.8 多項式から特定の項の係数を取り出す"
      ]
    },
    {
      "cell_type": "code",
      "metadata": {
        "id": "Y6DH65Xqp2M1",
        "colab_type": "code",
        "colab": {
          "base_uri": "https://localhost:8080/",
          "height": 34
        },
        "outputId": "6dab7548-b678-44a9-da25-0f96309e0720"
      },
      "source": [
        "var('x y')\n",
        "expand((x+y)**3).coeff(x,1)"
      ],
      "execution_count": 14,
      "outputs": [
        {
          "output_type": "execute_result",
          "data": {
            "text/plain": [
              "3*y**2"
            ]
          },
          "metadata": {
            "tags": []
          },
          "execution_count": 14
        }
      ]
    },
    {
      "cell_type": "markdown",
      "metadata": {
        "id": "yHPy_YSwrI0Y",
        "colab_type": "text"
      },
      "source": [
        "### 4.9 代数方程式の根\n",
        "$ ax^2+ bx + c = 0 $\n",
        "\n",
        "$ x = \\frac{-b\\pm\\sqrt{b^2-4ac}}{2a}$"
      ]
    },
    {
      "cell_type": "code",
      "metadata": {
        "id": "vTxUKeKNqvq2",
        "colab_type": "code",
        "colab": {
          "base_uri": "https://localhost:8080/",
          "height": 34
        },
        "outputId": "459a2b44-8a2c-42d4-a9d5-6af9fcbe256e"
      },
      "source": [
        "var('x,a,b,c')\n",
        "solve(a*x**2 + b*x + c , x)"
      ],
      "execution_count": 15,
      "outputs": [
        {
          "output_type": "execute_result",
          "data": {
            "text/plain": [
              "[(-b + sqrt(-4*a*c + b**2))/(2*a), -(b + sqrt(-4*a*c + b**2))/(2*a)]"
            ]
          },
          "metadata": {
            "tags": []
          },
          "execution_count": 15
        }
      ]
    },
    {
      "cell_type": "markdown",
      "metadata": {
        "id": "BiGJTcxDrl7q",
        "colab_type": "text"
      },
      "source": [
        "### 4.10 連立方程式を解く"
      ]
    },
    {
      "cell_type": "code",
      "metadata": {
        "id": "7QdV2yydrdZ1",
        "colab_type": "code",
        "colab": {
          "base_uri": "https://localhost:8080/",
          "height": 34
        },
        "outputId": "10ee7776-0a6c-44ad-dc65-97ea6122715a"
      },
      "source": [
        "solve([3*x + 4*y-5, 2*x+3*y-3],[x,y])"
      ],
      "execution_count": 16,
      "outputs": [
        {
          "output_type": "execute_result",
          "data": {
            "text/plain": [
              "{x: 3, y: -1}"
            ]
          },
          "metadata": {
            "tags": []
          },
          "execution_count": 16
        }
      ]
    },
    {
      "cell_type": "markdown",
      "metadata": {
        "id": "HK5DDNBwsre0",
        "colab_type": "text"
      },
      "source": [
        "### 4.11 値の代入"
      ]
    },
    {
      "cell_type": "code",
      "metadata": {
        "id": "CXlqFs9Pr57_",
        "colab_type": "code",
        "colab": {
          "base_uri": "https://localhost:8080/",
          "height": 34
        },
        "outputId": "a032443a-f676-49e6-e62e-af2348fc6782"
      },
      "source": [
        "(a*x**2 + 2*b*x + c).subs(x,3)"
      ],
      "execution_count": 17,
      "outputs": [
        {
          "output_type": "execute_result",
          "data": {
            "text/plain": [
              "9*a + 6*b + c"
            ]
          },
          "metadata": {
            "tags": []
          },
          "execution_count": 17
        }
      ]
    },
    {
      "cell_type": "markdown",
      "metadata": {
        "id": "xUrEJqMVtDPa",
        "colab_type": "text"
      },
      "source": [
        "### 4.12 総和\n",
        "$$ \\sum_{k=1}^{10} k $$"
      ]
    },
    {
      "cell_type": "code",
      "metadata": {
        "id": "u5HILulqs9C8",
        "colab_type": "code",
        "colab": {
          "base_uri": "https://localhost:8080/",
          "height": 34
        },
        "outputId": "39ba5387-b16f-4b66-fe51-579167416777"
      },
      "source": [
        "symbols('k', integer=True)\n",
        "summation(k,(k,1,10))"
      ],
      "execution_count": 19,
      "outputs": [
        {
          "output_type": "execute_result",
          "data": {
            "text/plain": [
              "55"
            ]
          },
          "metadata": {
            "tags": []
          },
          "execution_count": 19
        }
      ]
    },
    {
      "cell_type": "markdown",
      "metadata": {
        "id": "mSeCQz5GuV0n",
        "colab_type": "text"
      },
      "source": [
        "### 4.13 総乗\n",
        "$$ \\prod_{k=1}^{10} k $$"
      ]
    },
    {
      "cell_type": "code",
      "metadata": {
        "id": "K-Ilm03BtM_7",
        "colab_type": "code",
        "colab": {
          "base_uri": "https://localhost:8080/",
          "height": 34
        },
        "outputId": "44946335-b75c-4dbc-b955-65ed3149fd64"
      },
      "source": [
        "product(k,(k,1,10))"
      ],
      "execution_count": 20,
      "outputs": [
        {
          "output_type": "execute_result",
          "data": {
            "text/plain": [
              "3628800"
            ]
          },
          "metadata": {
            "tags": []
          },
          "execution_count": 20
        }
      ]
    },
    {
      "cell_type": "markdown",
      "metadata": {
        "id": "IeC9n0x-vtdZ",
        "colab_type": "text"
      },
      "source": [
        "## 5 関数"
      ]
    },
    {
      "cell_type": "code",
      "metadata": {
        "id": "V0Kn5IGiuteh",
        "colab_type": "code",
        "colab": {
          "base_uri": "https://localhost:8080/",
          "height": 34
        },
        "outputId": "832fa8bf-41a3-4b78-ad6b-6bb8613c08c8"
      },
      "source": [
        "f = x + y\n",
        "f.subs(x,5).subs(y,3)"
      ],
      "execution_count": 22,
      "outputs": [
        {
          "output_type": "execute_result",
          "data": {
            "text/plain": [
              "8"
            ]
          },
          "metadata": {
            "tags": []
          },
          "execution_count": 22
        }
      ]
    },
    {
      "cell_type": "markdown",
      "metadata": {
        "id": "1Dta8bFwwN18",
        "colab_type": "text"
      },
      "source": [
        "### 微分"
      ]
    },
    {
      "cell_type": "code",
      "metadata": {
        "id": "R14IzcJFvzXk",
        "colab_type": "code",
        "colab": {
          "base_uri": "https://localhost:8080/",
          "height": 34
        },
        "outputId": "5e48e5f1-b28b-4c98-a04e-bc132a4d3c55"
      },
      "source": [
        "v = (x+y)**3\n",
        "diff(v,x)"
      ],
      "execution_count": 23,
      "outputs": [
        {
          "output_type": "execute_result",
          "data": {
            "text/plain": [
              "3*(x + y)**2"
            ]
          },
          "metadata": {
            "tags": []
          },
          "execution_count": 23
        }
      ]
    },
    {
      "cell_type": "markdown",
      "metadata": {
        "id": "UF_WEjE6wRz-",
        "colab_type": "text"
      },
      "source": [
        "### 積分"
      ]
    },
    {
      "cell_type": "code",
      "metadata": {
        "id": "62M870ygwHvJ",
        "colab_type": "code",
        "colab": {}
      },
      "source": [
        ""
      ],
      "execution_count": 0,
      "outputs": []
    }
  ]
}