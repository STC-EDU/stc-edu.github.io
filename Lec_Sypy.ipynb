{
  "nbformat": 4,
  "nbformat_minor": 0,
  "metadata": {
    "colab": {
      "name": "Lec_Sypy.ipynb",
      "version": "0.3.2",
      "provenance": [],
      "include_colab_link": true
    },
    "kernelspec": {
      "name": "python3",
      "display_name": "Python 3"
    }
  },
  "cells": [
    {
      "cell_type": "markdown",
      "metadata": {
        "id": "view-in-github",
        "colab_type": "text"
      },
      "source": [
        "<a href=\"https://colab.research.google.com/github/STC-EDU/stc-edu.github.io/blob/master/Lec_Sypy.ipynb\" target=\"_parent\"><img src=\"https://colab.research.google.com/assets/colab-badge.svg\" alt=\"Open In Colab\"/></a>"
      ]
    },
    {
      "cell_type": "code",
      "metadata": {
        "id": "E5Dqzf57Pu47",
        "colab_type": "code",
        "colab": {}
      },
      "source": [
        "from sympy import *"
      ],
      "execution_count": 0,
      "outputs": []
    },
    {
      "cell_type": "markdown",
      "metadata": {
        "id": "qnbzdsApAFWT",
        "colab_type": "text"
      },
      "source": [
        "##1 加減乗除\n",
        "1. $ 3+2 $\n",
        "2. $ 3-2 $\n",
        "3. $ \\frac{3}{2} $ \n",
        "4. $ 3/2 $"
      ]
    },
    {
      "cell_type": "code",
      "metadata": {
        "id": "NxSHE9jUAOtZ",
        "colab_type": "code",
        "outputId": "baa1014b-9921-4a9e-d9f5-301225edc399",
        "colab": {
          "base_uri": "https://localhost:8080/",
          "height": 35
        }
      },
      "source": [
        "3+2,3-2,3*2,Rational(3,2), 3/2"
      ],
      "execution_count": 8,
      "outputs": [
        {
          "output_type": "execute_result",
          "data": {
            "text/plain": [
              "(5, 1, 6, 3/2, 1.5)"
            ]
          },
          "metadata": {
            "tags": []
          },
          "execution_count": 8
        }
      ]
    },
    {
      "cell_type": "markdown",
      "metadata": {
        "id": "AyGjSoP6A7_o",
        "colab_type": "text"
      },
      "source": [
        "##2 冪乗・階乗・二重階乗・ルート\n",
        "1. $ 2^3 $\n",
        "2. $ 5! $\n",
        "3. $ 5!! $\n",
        "4. $ sqrt(5) $"
      ]
    },
    {
      "cell_type": "code",
      "metadata": {
        "id": "YsIsud0NBEE0",
        "colab_type": "code",
        "colab": {
          "base_uri": "https://localhost:8080/",
          "height": 35
        },
        "outputId": "a92904e5-6e9e-4ea0-8275-b8f7f55e43b2"
      },
      "source": [
        "2**3,factorial(5), factorial2(5),sqrt(5)"
      ],
      "execution_count": 14,
      "outputs": [
        {
          "output_type": "execute_result",
          "data": {
            "text/plain": [
              "(8, 120, 15, sqrt(5))"
            ]
          },
          "metadata": {
            "tags": []
          },
          "execution_count": 14
        }
      ]
    },
    {
      "cell_type": "markdown",
      "metadata": {
        "id": "T4utlSUgiOvX",
        "colab_type": "text"
      },
      "source": [
        "##3 複素数\n",
        " 虚数単位、複素共益、実部・虚部、絶対値、偏角\n",
        " 1. $ 2i $\n",
        " 2. $ 2+3i, 2-3i $\n",
        " 3. $ 2+ 3i$の実部:$ 2 $と虚部:$3 $\n",
        " 4. $ |2+3i | =  \\sqrt{2^2+3^2} = \\sqrt{13} $\n",
        " 5. $ \\theta = arg(2+3i) = \\tan^{-1} \\frac{3}{2} $"
      ]
    },
    {
      "cell_type": "code",
      "metadata": {
        "id": "sT1kvh3hiRVS",
        "colab_type": "code",
        "colab": {
          "base_uri": "https://localhost:8080/",
          "height": 35
        },
        "outputId": "81ff7bd1-d9e2-4d6b-9464-91287b4f88bf"
      },
      "source": [
        "I**2,conjugate(2+3*I),re(2+I*3),im(2+I*3),Abs(2+I*3),arg(2+I*3)"
      ],
      "execution_count": 17,
      "outputs": [
        {
          "output_type": "execute_result",
          "data": {
            "text/plain": [
              "(-1, 2 - 3*I, 2, 3, sqrt(13), atan(3/2))"
            ]
          },
          "metadata": {
            "tags": []
          },
          "execution_count": 17
        }
      ]
    },
    {
      "cell_type": "markdown",
      "metadata": {
        "id": "JVVQPEE3jTr6",
        "colab_type": "text"
      },
      "source": [
        "##4 代数的操作"
      ]
    },
    {
      "cell_type": "code",
      "metadata": {
        "id": "GejSI8kNjXZB",
        "colab_type": "code",
        "colab": {
          "base_uri": "https://localhost:8080/",
          "height": 35
        },
        "outputId": "dfda983d-2a68-4068-a388-6d79511a269c"
      },
      "source": [
        "#素因数分解\n",
        "factorint(12)"
      ],
      "execution_count": 34,
      "outputs": [
        {
          "output_type": "execute_result",
          "data": {
            "text/plain": [
              "(x - 3)*(x - 1)"
            ]
          },
          "metadata": {
            "tags": []
          },
          "execution_count": 34
        }
      ]
    },
    {
      "cell_type": "code",
      "metadata": {
        "id": "q8kswPrekwZo",
        "colab_type": "code",
        "colab": {
          "base_uri": "https://localhost:8080/",
          "height": 35
        },
        "outputId": "32677f1e-be02-4ba0-87f4-e48d3f83005d"
      },
      "source": [
        "#因数分解\n",
        "var('x')\n",
        "factor(x**2-4*x+3)"
      ],
      "execution_count": 35,
      "outputs": [
        {
          "output_type": "execute_result",
          "data": {
            "text/plain": [
              "(x - 3)*(x - 1)"
            ]
          },
          "metadata": {
            "tags": []
          },
          "execution_count": 35
        }
      ]
    },
    {
      "cell_type": "code",
      "metadata": {
        "id": "xOTSbY1pk2kD",
        "colab_type": "code",
        "colab": {
          "base_uri": "https://localhost:8080/",
          "height": 35
        },
        "outputId": "7525e163-1d04-4957-8ac7-f6a804fbb519"
      },
      "source": [
        "#部分分数分解\n",
        "apart(1/(x**2 - 4*x + 3))"
      ],
      "execution_count": 36,
      "outputs": [
        {
          "output_type": "execute_result",
          "data": {
            "text/plain": [
              "-1/(2*(x - 1)) + 1/(2*(x - 3))"
            ]
          },
          "metadata": {
            "tags": []
          },
          "execution_count": 36
        }
      ]
    },
    {
      "cell_type": "code",
      "metadata": {
        "id": "1mxDxmtCQH0G",
        "colab_type": "code",
        "colab": {
          "base_uri": "https://localhost:8080/",
          "height": 35
        },
        "outputId": "0973fe67-9d57-4bb2-baf2-8d133b4e8b5a"
      },
      "source": [
        "#多項式展開\n",
        "var('y')\n",
        "expand((x+y)**3)"
      ],
      "execution_count": 37,
      "outputs": [
        {
          "output_type": "execute_result",
          "data": {
            "text/plain": [
              "x**3 + 3*x**2*y + 3*x*y**2 + y**3"
            ]
          },
          "metadata": {
            "tags": []
          },
          "execution_count": 37
        }
      ]
    },
    {
      "cell_type": "code",
      "metadata": {
        "id": "zaw6nrFrlHx1",
        "colab_type": "code",
        "colab": {
          "base_uri": "https://localhost:8080/",
          "height": 35
        },
        "outputId": "bac6b643-e716-4d44-d325-7d2f3602ad6b"
      },
      "source": [
        "#簡単化・通分\n",
        "simplify((2*x+2)/((x-1)**2 * (x-2)))"
      ],
      "execution_count": 38,
      "outputs": [
        {
          "output_type": "execute_result",
          "data": {
            "text/plain": [
              "2*(x + 1)/((x - 2)*(x - 1)**2)"
            ]
          },
          "metadata": {
            "tags": []
          },
          "execution_count": 38
        }
      ]
    },
    {
      "cell_type": "code",
      "metadata": {
        "id": "hB6eD4FqlT2s",
        "colab_type": "code",
        "colab": {}
      },
      "source": [
        ""
      ],
      "execution_count": 0,
      "outputs": []
    }
  ]
}